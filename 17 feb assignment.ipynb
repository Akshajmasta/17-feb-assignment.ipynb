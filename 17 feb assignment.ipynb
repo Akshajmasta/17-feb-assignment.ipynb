{
 "cells": [
  {
   "attachments": {},
   "cell_type": "markdown",
   "metadata": {},
   "source": [
    "ANSWER 1"
   ]
  },
  {
   "attachments": {},
   "cell_type": "markdown",
   "metadata": {},
   "source": [
    ". MongoDB is a cross-platform, document-oriented NoSQL database that uses a flexible schema to store and manage data. Unlike SQL databases, non-relational databases like MongoDB store data in a non-tabular format, using documents, key-value pairs, graphs, or other structures. This allows for greater flexibility and scalability, as data can be easily added or removed without requiring changes to the database schema. MongoDB is preferred over SQL databases in scenarios where data is unstructured or semistructured, or when the ability to scale horizontally is critical."
   ]
  },
  {
   "attachments": {},
   "cell_type": "markdown",
   "metadata": {},
   "source": [
    "ANSWER 2"
   ]
  },
  {
   "attachments": {},
   "cell_type": "markdown",
   "metadata": {},
   "source": [
    "MongoDB is a popular NoSQL document database used to store, manage and retrieve data. Here are some of the key features of MongoDB:\n",
    "\n",
    "Document-based data model: MongoDB stores data as documents, which are similar to JSON objects. This provides a flexible schema and allows for easy mapping between objects in code and the data stored in the database.\n",
    "\n",
    "Dynamic schema: MongoDB has a dynamic schema, which means that documents can have different structures and fields can be added or removed as needed. This makes it easy to evolve the database schema as your application evolves.\n",
    "\n",
    "High scalability and performance: MongoDB is designed to scale horizontally across multiple servers, allowing for high scalability and performance. It also has built-in support for sharding and replication, which helps distribute data across multiple servers.\n",
    "\n",
    "Rich query language: MongoDB supports a rich query language, including support for complex queries, aggregation, and full-text search. This makes it easy to retrieve the data you need quickly and efficiently.\n",
    "\n",
    "Indexing and aggregation capabilities: MongoDB has powerful indexing and aggregation capabilities, allowing for efficient queries and real-time analytics. It also supports geospatial indexing and search.\n",
    "\n",
    "Built-in replication and sharding: MongoDB has built-in support for replication and sharding, making it easy to distribute data across multiple servers and ensure high availability and performance.\n",
    "\n",
    "Automatic failover and load balancing: MongoDB has built-in support for automatic failover and load balancing, which ensures high availability and performance even in the event of server failures.\n",
    "\n",
    "Secure by default: MongoDB is designed with security in mind, and includes built-in support for authentication and authorization, as well as encryption of data in transit and at rest.\n",
    "\n",
    "\n",
    "\n",
    "\n"
   ]
  },
  {
   "attachments": {},
   "cell_type": "markdown",
   "metadata": {},
   "source": [
    "ANSWER 3"
   ]
  },
  {
   "attachments": {},
   "cell_type": "markdown",
   "metadata": {},
   "source": [
    "To connect MongoDB to Python, you can use the pymongo library. Here's an example code to create a database and a collection in MongoDB:"
   ]
  },
  {
   "cell_type": "code",
   "execution_count": null,
   "metadata": {},
   "outputs": [],
   "source": [
    "import pymongo\n",
    "\n",
    "# connect to MongoDB\n",
    "client = pymongo.MongoClient(\"mongodb://localhost:27017/\")\n",
    "\n",
    "# create a database\n",
    "db = client[\"mydatabase\"]\n",
    "\n",
    "# create a collection\n",
    "col = db[\"customers\"]\n"
   ]
  },
  {
   "attachments": {},
   "cell_type": "markdown",
   "metadata": {},
   "source": [
    "ANSWER 4"
   ]
  },
  {
   "cell_type": "code",
   "execution_count": null,
   "metadata": {},
   "outputs": [],
   "source": [
    "# insert one record\n",
    "record = {\"name\": \"John\", \"address\": \"Highway 37\"}\n",
    "col.insert_one(record)\n",
    "\n",
    "# insert many records\n",
    "records = [\n",
    "  {\"name\": \"Amy\", \"address\": \"Apple st 652\"},\n",
    "  {\"name\": \"Hannah\", \"address\": \"Mountain 21\"},\n",
    "  {\"name\": \"Michael\", \"address\": \"Valley 345\"},\n",
    "  {\"name\": \"Sandy\", \"address\": \"Ocean blvd 2\"},\n",
    "  {\"name\": \"Betty\", \"address\": \"Green Grass 1\"},\n",
    "  {\"name\": \"Richard\", \"address\": \"Sky st 331\"}\n",
    "]\n",
    "col.insert_many(records)\n",
    "\n",
    "# print the inserted record\n",
    "print(col.find_one())\n",
    "print(list(col.find()))\n"
   ]
  },
  {
   "attachments": {},
   "cell_type": "markdown",
   "metadata": {},
   "source": [
    "ANSWER 5"
   ]
  },
  {
   "attachments": {},
   "cell_type": "markdown",
   "metadata": {},
   "source": [
    " The find() method in MongoDB is used to query the database and retrieve documents that match certain criteria. You can pass a query object to the find() method to specify the conditions for the search"
   ]
  },
  {
   "cell_type": "code",
   "execution_count": null,
   "metadata": {},
   "outputs": [],
   "source": [
    "# find documents where the name starts with \"J\"\n",
    "query = {\"name\": {\"$regex\": \"^J\"}}\n",
    "results = col.find(query)\n",
    "\n",
    "# print the results\n",
    "for r in results:\n",
    "  print(r)\n"
   ]
  },
  {
   "attachments": {},
   "cell_type": "markdown",
   "metadata": {},
   "source": [
    "ANSWER 6"
   ]
  },
  {
   "cell_type": "code",
   "execution_count": null,
   "metadata": {},
   "outputs": [],
   "source": [
    "# sort by name in ascending order\n",
    "results = col.find().sort(\"name\")\n",
    "\n",
    "# print the results\n",
    "for r in results:\n",
    "  print(r)\n",
    "\n",
    "# sort by name in descending order\n",
    "results = col.find().sort(\"name\", -1)\n",
    "\n",
    "# print the results\n",
    "for r in results:\n",
    "  print(r)\n"
   ]
  },
  {
   "attachments": {},
   "cell_type": "markdown",
   "metadata": {},
   "source": [
    "ANSWER 7"
   ]
  },
  {
   "attachments": {},
   "cell_type": "markdown",
   "metadata": {},
   "source": [
    "In MongoDB, there are three methods used to remove data from a collection:\n",
    "\n",
    "delete_one(): This method is used to delete a single document from a collection that matches a specified filter. If multiple documents match the filter, only the first one will be deleted.\n",
    "\n",
    "delete_many(): This method is used to delete all documents from a collection that match a specified filter.\n",
    "\n",
    "drop(): This method is used to drop an entire collection from a database.\n",
    "\n",
    "These methods are used to remove data from a collection in MongoDB for various reasons. For example:\n",
    "\n",
    "To remove a specific document: If you want to remove a specific document from a collection, you can use the delete_one() method to delete it based on a specific filter.\n",
    "\n",
    "To remove multiple documents: If you want to remove multiple documents from a collection that match a certain criteria, you can use the delete_many() method.\n",
    "\n",
    "To drop a collection: If you want to completely remove a collection from the database, you can use the drop() method.\n",
    "\n",
    "It's important to use these methods carefully because they can permanently remove data from the database. It's a good practice to make backups before making any major changes to the database.\n",
    "\n",
    "\n",
    "\n",
    "\n"
   ]
  }
 ],
 "metadata": {
  "kernelspec": {
   "display_name": "Python 3",
   "language": "python",
   "name": "python3"
  },
  "language_info": {
   "codemirror_mode": {
    "name": "ipython",
    "version": 3
   },
   "file_extension": ".py",
   "mimetype": "text/x-python",
   "name": "python",
   "nbconvert_exporter": "python",
   "pygments_lexer": "ipython3",
   "version": "3.11.2"
  },
  "orig_nbformat": 4
 },
 "nbformat": 4,
 "nbformat_minor": 2
}
